{
 "cells": [
  {
   "cell_type": "code",
   "execution_count": null,
   "id": "44199549-3a4d-4b43-bb16-83738b5f293b",
   "metadata": {},
   "outputs": [],
   "source": [
    "# importing of libaries\n",
    "%matplotlib inline\n",
    "\n",
    "import requests\n",
    "import kaggle\n",
    "import os \n",
    "import json\n",
    "\n",
    "import pandas as pd\n",
    "import seaborn as sns\n",
    "import matplotlib\n",
    "import matplotlib.pyplot as plt"
   ]
  },
  {
   "cell_type": "code",
   "execution_count": null,
   "id": "bbf94311-ffc3-475d-84de-27b3e7adeeef",
   "metadata": {},
   "outputs": [],
   "source": [
    "# connecting to api, and downloading data set (checking it works as well)\n",
    "dataset = \"prasad22/healthcare-dataset\"\n",
    "kaggle.api.dataset_download_files(dataset, path=\"datasets\", unzip=True)\n",
    "\n",
    "print(os.listdir(\"datasets\"))\n",
    "\n",
    "file_path = \"datasets/healthcare_dataset.csv\"\n",
    "df = pd.read_csv(file_path)\n",
    "\n",
    "print(df.head())\n",
    "print(df.info())"
   ]
  },
  {
   "cell_type": "code",
   "execution_count": null,
   "id": "3f72c3e2-3692-4876-9acf-1c1e08317808",
   "metadata": {},
   "outputs": [],
   "source": [
    "#cleaning of data\n",
    "df.columns = df.columns.str.capitalize().str.replace(' ', '_')\n",
    "#print(df.columns)\n",
    "df['Name'] = df['Name'].str.title()\n",
    "df['Gender'] = df['Gender'].str.capitalize()\n",
    "df['Blood_type'] = df['Blood_type'].str.upper()\n",
    "df['Hospital'] = df['Hospital'].str.title()\n",
    "df['Doctor'] = df['Doctor'].str.title()\n",
    "df['Insurance_provider'] = df['Insurance_provider'].str.title()\n",
    "df['Billing_amount'] = df['Billing_amount'].round(2)\n",
    "df['Date_of_admission'] = pd.to_datetime(df['Date_of_admission'])\n",
    "df['Discharge_date'] = pd.to_datetime(df['Discharge_date'])\n",
    "\n",
    "#check for nulls / empty cells which there is not \n",
    "print(df.isnull().sum())\n",
    "\n",
    "#checking for negatives/outliers\n",
    "print(df['Billing_amount'].describe())\n",
    "# There is a negative billing amount, so I will look into that more later\n",
    "print(df['Age'].describe())\n",
    "print(df['Gender'].value_counts())\n",
    "print(df['Blood_type'].value_counts())\n",
    "print(df['Admission_type'].value_counts())\n",
    "\n",
    "print(df.head())"
   ]
  },
  {
   "cell_type": "code",
   "execution_count": null,
   "id": "ae366bfa-c771-43b4-9914-7335d8dc1bec",
   "metadata": {},
   "outputs": [],
   "source": [
    "#querying negatives\n",
    "negatives = df[df['Billing_amount'] < 0]\n",
    "#print(negatives)\n",
    "\n",
    "#investigating if it's a particular medical condition / hospital\n",
    "print(f\"Negative billing entries: {len(negatives)}\")\n",
    "print(negatives['Medical_condition'].value_counts())\n",
    "print(negatives['Hospital'].value_counts())\n",
    "\n",
    "#creating a refund column for reporting later on \n",
    "df['Billing_flag'] = df['Billing_amount'].apply(lambda x: 'Refund' if x < 0 else 'Charge')\n",
    "df['Net_billing'] = df['Billing_amount']\n",
    "\n",
    "print(df['Billing_flag'].value_counts())\n",
    "print(df.groupby('Billing_flag')['Billing_amount'].sum())"
   ]
  },
  {
   "cell_type": "code",
   "execution_count": null,
   "id": "0478320e-1ac9-4f2a-9b2f-d48fa2c12a71",
   "metadata": {},
   "outputs": [],
   "source": [
    "# checking for & removing dupkicates  \n",
    "duplicates = df.duplicated().sum()\n",
    "#print(f'Duplicates: {duplicates}')\n",
    "# Get all duplicated rows (all columns identical), sort by name and display to check they are true dupliates\n",
    "duplicates = df[df.duplicated(keep=False)]\n",
    "duplicates_sorted = duplicates.sort_values(by='Name')\n",
    "#print(duplicates_sorted.head(10))\n",
    "# drop duplicates\n",
    "df = df.drop_duplicates()"
   ]
  },
  {
   "cell_type": "code",
   "execution_count": null,
   "id": "d7556d93-8b92-4f32-8476-290f84f147d8",
   "metadata": {},
   "outputs": [],
   "source": [
    "#Now the data is cleaned, im starting to visualise it to identify trends\n",
    "#looking at the breakdown of age and billing to identify trends visually\n",
    "\n",
    "df['Age'].hist(bins=20)\n",
    "plt.title(\"Age Distribution\")\n",
    "plt.show()\n",
    "\n",
    "df['Billing_amount'].hist(bins=20)\n",
    "plt.title(\"Billing Amount Distribution\")\n",
    "plt.show()\n",
    "\n",
    "sns.countplot(x='Gender', data=df)\n",
    "plt.show()\n",
    "\n",
    "\n",
    "#looking at length of stay and cost per day and adding a column for it\n",
    "df['Date_of_admission'] = pd.to_datetime(df['Date_of_admission'])\n",
    "df['Discharge_date'] = pd.to_datetime(df['Discharge_date'])\n",
    "\n",
    "df['Length_of_stay'] = (df['Discharge_date'] - df['Date_of_admission']).dt.days\n",
    "df['Cost_per_day'] = df['Billing_amount'] / df['Length_of_stay'].replace(0, 1)\n",
    "\n",
    "print(df.head())"
   ]
  },
  {
   "cell_type": "code",
   "execution_count": null,
   "id": "f213be57-2f1a-44c0-bcf0-c281026a8e2c",
   "metadata": {},
   "outputs": [],
   "source": [
    "#exploring data and looking for further correlations\n",
    "numeric_df = df.select_dtypes(include=['int64', 'float64'])\n",
    "#print(numeric_df.head())\n",
    "\n",
    "corr = numeric_df.corr()\n",
    "#print(corr)\n",
    "\n",
    "plt.figure(figsize=(8,6))\n",
    "sns.heatmap(corr, annot=True, cmap=\"coolwarm\", fmt=\".2f\")\n",
    "plt.title(\"Correlation Heatmap\")\n",
    "plt.show()\n",
    "\n",
    "sns.boxplot(x=\"Blood_type\", y=\"Billing_amount\", data=df)\n",
    "plt.title(\"Billing Amount by Blood Type\")\n",
    "plt.show()\n",
    "\n",
    "sns.boxplot(x=\"Admission_type\", y=\"Billing_amount\", data=df)\n",
    "plt.title(\"Billing Amount by Admission Type\")\n",
    "plt.show()\n",
    "\n",
    "#df.groupby(\"Hospital\")[\"Billing_amount\"].mean().sort_values(ascending=False).head(10)\n",
    "print (df.head())"
   ]
  },
  {
   "cell_type": "code",
   "execution_count": null,
   "id": "7a74cad6-d206-45bc-ab00-5c1f392898c2",
   "metadata": {},
   "outputs": [],
   "source": [
    "# Define the categorical variables I wanted to analyse and visualise \n",
    "categorical_vars = [\"Gender\", \"Blood_type\", \"Medical_condition\"]\n",
    "\n",
    "for var in categorical_vars:\n",
    "    #print(f\"\\n===== {var} vs Billing_amount =====\\n\")\n",
    "    \n",
    "    # Grouped summary statistics\n",
    "    #summary = df.groupby(var)[\"Billing_amount\"].agg(['mean', 'median', 'count']).sort_values(by=\"mean\", ascending=False)\n",
    "    #print(summary.head(10))  # show top 10 if there are many categories\n",
    "    \n",
    "    # Boxplot for distribution comparison\n",
    "    plt.figure(figsize=(10,5))\n",
    "    sns.boxplot(x=var, y=\"Billing_amount\", data=df)\n",
    "    plt.title(f\"Billing Amount by {var}\")\n",
    "    plt.xticks(rotation=45)\n",
    "    plt.show()"
   ]
  },
  {
   "cell_type": "code",
   "execution_count": null,
   "id": "3d394f9d-6ca6-436f-b321-8deba36e608f",
   "metadata": {},
   "outputs": [],
   "source": [
    "#savng to visulise in PowerBI \n",
    "save_path = r\"C:\\Users\\James's Laptop\\OneDrive\\Data Camp\\Projects\\Healthcare_Proj\"\n",
    "file_path = os.path.join(save_path, \"healthcare_cleaned.csv\")\n",
    "df.to_csv(file_path, index=False)\n",
    "print(os.getcwd())\n",
    "print(\"Export complete: healthcare_cleaned.csv\")"
   ]
  },
  {
   "cell_type": "code",
   "execution_count": null,
   "id": "52d34297-0dce-48c1-aedc-5fedf9853126",
   "metadata": {},
   "outputs": [],
   "source": []
  }
 ],
 "metadata": {
  "kernelspec": {
   "display_name": "Python [conda env:base] *",
   "language": "python",
   "name": "conda-base-py"
  },
  "language_info": {
   "codemirror_mode": {
    "name": "ipython",
    "version": 3
   },
   "file_extension": ".py",
   "mimetype": "text/x-python",
   "name": "python",
   "nbconvert_exporter": "python",
   "pygments_lexer": "ipython3",
   "version": "3.13.5"
  }
 },
 "nbformat": 4,
 "nbformat_minor": 5
}
